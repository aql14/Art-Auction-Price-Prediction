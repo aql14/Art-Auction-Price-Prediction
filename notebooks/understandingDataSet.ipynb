{
 "cells": [
  {
   "cell_type": "code",
   "execution_count": 26,
   "metadata": {},
   "outputs": [],
   "source": [
    "import numpy as np \n",
    "import pandas as pd \n",
    "import matplotlib.pyplot as plt \n",
    "import seaborn as sns"
   ]
  },
  {
   "cell_type": "code",
   "execution_count": 27,
   "metadata": {},
   "outputs": [],
   "source": [
    "# Import data set\n",
    "df = pd.read_csv('../data/artDataset.csv')"
   ]
  },
  {
   "cell_type": "code",
   "execution_count": 28,
   "metadata": {},
   "outputs": [
    {
     "name": "stdout",
     "output_type": "stream",
     "text": [
      "The columns of this data set are:\n",
      "\n",
      "Unnamed: 0\n",
      "price\n",
      "artist\n",
      "title\n",
      "yearCreation\n",
      "signed\n",
      "condition\n",
      "period\n",
      "movement\n"
     ]
    }
   ],
   "source": [
    "# See the columns/features\n",
    "features = df.columns\n",
    "print('The columns of this data set are:\\n')\n",
    "for item in features:\n",
    "    print(f'{item}')"
   ]
  },
  {
   "cell_type": "code",
   "execution_count": 29,
   "metadata": {},
   "outputs": [
    {
     "name": "stdout",
     "output_type": "stream",
     "text": [
      "This data set contains a total of 754 art pieces\n",
      "There are 455 unique artists in this data set\n"
     ]
    }
   ],
   "source": [
    "print(f'This data set contains a total of {len(df)} art pieces')\n",
    "print(f'There are {len(df['artist'].unique())} unique artists in this data set')"
   ]
  },
  {
   "cell_type": "markdown",
   "metadata": {},
   "source": [
    "We only have one numeric feature: price.\n",
    "The rest are categorical and plenty preprocessing is going to be required for the following features: title, yearCreation, signed and condition.\n"
   ]
  }
 ],
 "metadata": {
  "kernelspec": {
   "display_name": "base",
   "language": "python",
   "name": "python3"
  },
  "language_info": {
   "codemirror_mode": {
    "name": "ipython",
    "version": 3
   },
   "file_extension": ".py",
   "mimetype": "text/x-python",
   "name": "python",
   "nbconvert_exporter": "python",
   "pygments_lexer": "ipython3",
   "version": "3.12.7"
  }
 },
 "nbformat": 4,
 "nbformat_minor": 2
}
