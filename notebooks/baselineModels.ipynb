{
 "cells": [
  {
   "cell_type": "code",
   "execution_count": 51,
   "metadata": {},
   "outputs": [],
   "source": [
    "import numpy as np \n",
    "import pandas as pd \n",
    "import matplotlib.pyplot as plt \n",
    "import seaborn as sns"
   ]
  },
  {
   "cell_type": "code",
   "execution_count": 52,
   "metadata": {},
   "outputs": [],
   "source": [
    "# Import data set\n",
    "df = pd.read_csv('../data/artDataset_preprocessed.csv')\n",
    "\n",
    "# Let's transform the data set into a numpy array\n",
    "data_array = df.to_numpy()\n",
    "\n",
    "# Predictors\n",
    "X = data_array[:,1:]\n",
    "\n",
    "# Target\n",
    "y = data_array[:,0]"
   ]
  },
  {
   "cell_type": "markdown",
   "metadata": {},
   "source": [
    "# **1. Baseline Model: Mean Predictor**"
   ]
  },
  {
   "cell_type": "markdown",
   "metadata": {},
   "source": [
    "Let's apply a linear regression model with no features, i.e. it computes the mean of y on the training data, and use this value to predict y on the test data"
   ]
  },
  {
   "cell_type": "code",
   "execution_count": 58,
   "metadata": {},
   "outputs": [
    {
     "name": "stdout",
     "output_type": "stream",
     "text": [
      "\n",
      "Baseline Model (Mean Predictor) Cross-Validation Results:\n",
      "R² scores for each fold: [-0.0032902  -0.00793626 -0.00072193 -0.03247125 -0.11076868]\n",
      "Mean R²: -0.0310 (±0.0414)\n",
      "RMSE for each fold: [11125.28975422 14912.55235547 11240.15193215 17734.83514548\n",
      "  6841.09045667]\n",
      "Mean RMSE: 12370.7839 (±3705.1512)\n"
     ]
    }
   ],
   "source": [
    "# Implement a baseline model (mean predictor)\n",
    "from sklearn.dummy import DummyRegressor\n",
    "from sklearn.model_selection import KFold, cross_val_score\n",
    "\n",
    "# Set up K-Fold Cross-Validation\n",
    "k_folds = 5\n",
    "kf = KFold(n_splits=k_folds, shuffle=True, random_state=14)\n",
    "\n",
    "# Initialize the baseline model (predicts the mean of y on the training set and uses it to predict y on the test set)\n",
    "baseline_model = DummyRegressor(strategy='mean')\n",
    "\n",
    "# Perform cross-validation on the baseline model\n",
    "baseline_cv_scores_r2 = cross_val_score(baseline_model, X, y, cv=kf, scoring='r2')\n",
    "baseline_cv_scores_neg_mse = cross_val_score(baseline_model, X, y, cv=kf, scoring='neg_mean_squared_error')\n",
    "\n",
    "# Convert negative MSE to positive MSE and then to RMSE\n",
    "baseline_cv_scores_mse = -baseline_cv_scores_neg_mse\n",
    "baseline_cv_scores_rmse = np.sqrt(baseline_cv_scores_mse)\n",
    "\n",
    "# Print baseline cross-validation results\n",
    "print(\"\\nBaseline Model (Mean Predictor) Cross-Validation Results:\")\n",
    "print(f\"R² scores for each fold: {baseline_cv_scores_r2}\")\n",
    "print(f\"Mean R²: {baseline_cv_scores_r2.mean():.4f} (±{baseline_cv_scores_r2.std():.4f})\")\n",
    "print(f\"RMSE for each fold: {baseline_cv_scores_rmse}\")\n",
    "print(f\"Mean RMSE: {baseline_cv_scores_rmse.mean():.4f} (±{baseline_cv_scores_rmse.std():.4f})\")\n"
   ]
  },
  {
   "cell_type": "markdown",
   "metadata": {},
   "source": [
    "We observe that this models r2 is lightly below zero, indicating the mean‐only predictor performs worse than using the sample mean of the full dataset"
   ]
  },
  {
   "cell_type": "markdown",
   "metadata": {},
   "source": [
    "## **2. Baseline Model: OLS**"
   ]
  },
  {
   "cell_type": "markdown",
   "metadata": {},
   "source": [
    "Both the scaled and non-scaled models should have the same (similar) performance."
   ]
  },
  {
   "cell_type": "markdown",
   "metadata": {},
   "source": [
    "### Non-scaled"
   ]
  },
  {
   "cell_type": "code",
   "execution_count": 59,
   "metadata": {},
   "outputs": [
    {
     "name": "stdout",
     "output_type": "stream",
     "text": [
      "\n",
      "OLS Model Cross-Validation Results:\n",
      "R² scores for each fold: [ 0.05018181  0.11863282  0.0973063   0.06897914 -0.27193074]\n",
      "Mean R²: 0.0126 (±0.1442)\n",
      "RMSE for each fold: [10824.76026325 13944.85123917 10675.43743215 16841.00009194\n",
      "  7320.5759778 ]\n",
      "Mean RMSE: 11921.3250 (±3231.7006)\n"
     ]
    }
   ],
   "source": [
    "# Implement OLS baseline model\n",
    "from sklearn.linear_model import LinearRegression\n",
    "import numpy as np\n",
    "\n",
    "# Initialize the OLS model\n",
    "ols_model = LinearRegression()\n",
    "\n",
    "# Use the same K-Fold Cross-Validation\n",
    "k_folds = 5\n",
    "kf = KFold(n_splits=k_folds, shuffle=True, random_state=14)\n",
    "\n",
    "# Perform cross-validation on the OLS model\n",
    "ols_cv_scores_r2 = cross_val_score(ols_model, X, y, cv=kf, scoring='r2')\n",
    "ols_cv_scores_neg_mse = cross_val_score(ols_model, X, y, cv=kf, scoring='neg_mean_squared_error')\n",
    "\n",
    "# Convert negative MSE to positive MSE and then to RMSE\n",
    "ols_cv_scores_mse = -ols_cv_scores_neg_mse\n",
    "ols_cv_scores_rmse = np.sqrt(ols_cv_scores_mse)\n",
    "\n",
    "# Print OLS cross-validation results\n",
    "print(\"\\nOLS Model Cross-Validation Results:\")\n",
    "print(f\"R² scores for each fold: {ols_cv_scores_r2}\")\n",
    "print(f\"Mean R²: {ols_cv_scores_r2.mean():.4f} (±{ols_cv_scores_r2.std():.4f})\")\n",
    "print(f\"RMSE for each fold: {ols_cv_scores_rmse}\")\n",
    "print(f\"Mean RMSE: {ols_cv_scores_rmse.mean():.4f} (±{ols_cv_scores_rmse.std():.4f})\")\n"
   ]
  },
  {
   "cell_type": "markdown",
   "metadata": {},
   "source": [
    "### Scaled"
   ]
  },
  {
   "cell_type": "markdown",
   "metadata": {},
   "source": [
    "At first, I obtained wildly different (even astronomically large) R² and RMSE when I threw scaling into the mix. In theory, an ordinary least‐squares fit is invariant to affine rescaling of the features: if we scale every column by a constant and then un‐scale the coefficients, predictions end up exactly the same, so the R²/MAE/RMSE shouldn’t change.\n",
    "\n",
    "When we get huge negatives like –1e14 for R² or RMSE on the order of 1e11, it almost always means that your pipeline has become numerically unstable.\n",
    "\n",
    "Solution: get rid of the features with null variance or establish a threshold"
   ]
  },
  {
   "cell_type": "code",
   "execution_count": null,
   "metadata": {},
   "outputs": [
    {
     "name": "stdout",
     "output_type": "stream",
     "text": [
      "Best number of neighbors: 9\n",
      "Best R² score:            0.0866\n",
      "RMSE per fold:            [ 9691.57077991 13077.34177415 12046.57615531 16330.09420118\n",
      "  6509.66310275]\n",
      "Mean RMSE:                11531.05 ± 3295.02\n"
     ]
    }
   ],
   "source": [
    "# 5-fold setup\n",
    "kf = KFold(n_splits=5, shuffle=True, random_state=14)\n",
    "\n",
    "from sklearn.feature_selection import VarianceThreshold\n",
    "\n",
    "pipeline = Pipeline([\n",
    "    (\"var_thresh\", VarianceThreshold()),         # removes features with σ=0\n",
    "    (\"scaler\",    StandardScaler()),\n",
    "    (\"ols\",       LinearRegression())\n",
    "])\n",
    "\n",
    "# CV on R² and RMSE\n",
    "r2_scores      = cross_val_score(pipeline, X, y, cv=kf, scoring=\"r2\")\n",
    "neg_mse_scores = cross_val_score(pipeline, X, y, cv=kf, scoring=\"neg_mean_squared_error\")\n",
    "rmse_scores    = np.sqrt(-neg_mse_scores)\n",
    "\n",
    "print(\"R² per fold:      \", r2_scores)\n",
    "print(\"Mean R²:           \", f\"{r2_scores.mean():.4f} ± {r2_scores.std():.4f}\")\n",
    "print(\"RMSE per fold:     \", rmse_scores)\n",
    "print(\"Mean RMSE:         \", f\"{rmse_scores.mean():.2f} ± {rmse_scores.std():.2f}\")"
   ]
  },
  {
   "cell_type": "code",
   "execution_count": 72,
   "metadata": {},
   "outputs": [
    {
     "name": "stdout",
     "output_type": "stream",
     "text": [
      "Best number of neighbors: 9\n",
      "Best R² score:            0.0866\n",
      "RMSE per fold:            [ 9691.57077991 13077.34177415 12046.57615531 16330.09420118\n",
      "  6509.66310275]\n",
      "Mean RMSE:                11531.05 ± 3295.02\n"
     ]
    }
   ],
   "source": [
    "from sklearn.neighbors import KNeighborsRegressor\n",
    "from sklearn.model_selection import KFold, GridSearchCV, cross_val_score\n",
    "from sklearn.feature_selection import VarianceThreshold\n",
    "from sklearn.preprocessing import StandardScaler\n",
    "from sklearn.pipeline import Pipeline\n",
    "import numpy as np\n",
    "\n",
    "# 5-fold CV setup\n",
    "kf = KFold(n_splits=5, shuffle=True, random_state=14)\n",
    "\n",
    "# Define pipeline\n",
    "pipeline = Pipeline([\n",
    "    (\"var_thresh\", VarianceThreshold()),\n",
    "    (\"scaler\", StandardScaler()),\n",
    "    (\"knn\", KNeighborsRegressor())\n",
    "])\n",
    "\n",
    "# Define the parameter grid for 'n_neighbors'\n",
    "param_grid = {\n",
    "    \"knn__n_neighbors\": [1, 3, 5, 7, 9, 11]\n",
    "}\n",
    "\n",
    "# Setup GridSearchCV\n",
    "grid_search = GridSearchCV(pipeline, param_grid, cv=kf, scoring=\"r2\", return_train_score=True)\n",
    "grid_search.fit(X, y)\n",
    "\n",
    "# Best model and its parameters\n",
    "print(\"Best number of neighbors:\", grid_search.best_params_[\"knn__n_neighbors\"])\n",
    "print(\"Best R² score:           \", f\"{grid_search.best_score_:.4f}\")\n",
    "\n",
    "# Optional: Compute RMSE with best estimator\n",
    "best_model = grid_search.best_estimator_\n",
    "neg_mse_scores = cross_val_score(best_model, X, y, cv=kf, scoring=\"neg_mean_squared_error\")\n",
    "rmse_scores = np.sqrt(-neg_mse_scores)\n",
    "\n",
    "print(\"RMSE per fold:           \", rmse_scores)\n",
    "print(\"Mean RMSE:               \", f\"{rmse_scores.mean():.2f} ± {rmse_scores.std():.2f}\")\n"
   ]
  }
 ],
 "metadata": {
  "kernelspec": {
   "display_name": "base",
   "language": "python",
   "name": "python3"
  },
  "language_info": {
   "codemirror_mode": {
    "name": "ipython",
    "version": 3
   },
   "file_extension": ".py",
   "mimetype": "text/x-python",
   "name": "python",
   "nbconvert_exporter": "python",
   "pygments_lexer": "ipython3",
   "version": "3.12.7"
  }
 },
 "nbformat": 4,
 "nbformat_minor": 2
}
